{
 "cells": [
  {
   "cell_type": "code",
   "execution_count": null,
   "id": "c60e5946",
   "metadata": {
    "scrolled": false
   },
   "outputs": [],
   "source": [
    "# https://huggingface.co/CompVis/stable-diffusion-v1-4\n",
    "# https://github.com/huggingface/diffusers\n",
    "# first you need to log in on the console: \"huggingface-cli login\""
   ]
  },
  {
   "cell_type": "code",
   "execution_count": null,
   "id": "8788080d",
   "metadata": {
    "scrolled": true
   },
   "outputs": [],
   "source": [
    "import datetime\n",
    "import os\n",
    "import torch\n",
    "from torch import autocast\n",
    "from diffusers import StableDiffusionPipeline\n",
    "\n",
    "torch.cuda.empty_cache()\n",
    "torch.cuda.is_available()\n",
    "os.makedirs(\"generatedImages/\", exist_ok=True)"
   ]
  },
  {
   "cell_type": "code",
   "execution_count": null,
   "id": "78341070",
   "metadata": {},
   "outputs": [],
   "source": [
    "model_id = \"CompVis/stable-diffusion-v1-4\"\n",
    "device = \"cuda\""
   ]
  },
  {
   "cell_type": "code",
   "execution_count": null,
   "id": "038cf5d7",
   "metadata": {},
   "outputs": [],
   "source": [
    "# use this\n",
    "# pipe = StableDiffusionPipeline.from_pretrained(model_id, use_auth_token=True)"
   ]
  },
  {
   "cell_type": "code",
   "execution_count": null,
   "id": "c710d73b",
   "metadata": {},
   "outputs": [],
   "source": [
    "# use this if less than 10 GB GPU RAM is available\n",
    "pipe = StableDiffusionPipeline.from_pretrained(model_id, torch_dtype=torch.float16, revision=\"fp16\", use_auth_token=True)"
   ]
  },
  {
   "cell_type": "code",
   "execution_count": null,
   "id": "56c98ad9",
   "metadata": {},
   "outputs": [],
   "source": [
    "pipe = pipe.to(device)"
   ]
  },
  {
   "cell_type": "code",
   "execution_count": null,
   "id": "863faaab",
   "metadata": {},
   "outputs": [],
   "source": [
    "folderAndFileName = \"steampunk diver\"\n",
    "guidanceScale = 7.5\n",
    "numberOfSteps = 50\n",
    "prompt = \"steampunk diver\"\n",
    "os.makedirs(\"generatedImages/\" + folderAndFileName, exist_ok=True)\n",
    "\n",
    "with open(\"generatedImages/\" + folderAndFileName + \"/\" + \"prompt.txt\", 'w') as f:\n",
    "    f.write(prompt)\n",
    "    f.write(\"\\n\" + \"guidanceScale: \" + str(guidanceScale))\n",
    "    f.write(\"\\n\" + \"numberOfSteps: \" + str(numberOfSteps))\n",
    "\n",
    "for i in range(50):\n",
    "    print(i)\n",
    "    with autocast(\"cuda\"):\n",
    "        image = pipe(prompt, guidance_scale=guidanceScale, num_inference_steps=numberOfSteps)[\"sample\"][0];\n",
    "    image.save(\"generatedImages/\" + folderAndFileName + \"/\" + folderAndFileName + \"_\" + str(int(datetime.datetime.now().timestamp()* 100000)) + \".png\")"
   ]
  },
  {
   "cell_type": "code",
   "execution_count": null,
   "id": "2e0e7a37",
   "metadata": {},
   "outputs": [],
   "source": [
    "folderAndFileName = \"a painting by\"\n",
    "guidanceScale = 7.5\n",
    "numberOfSteps = 50\n",
    "os.makedirs(\"generatedImages/\" + folderAndFileName, exist_ok=True)\n",
    "\n",
    "with open(\"generatedImages/\" + folderAndFileName + \"/\" + \"prompt.txt\", 'w') as f:\n",
    "    f.write(\"guidanceScale: \" + str(guidanceScale))\n",
    "    f.write(\"\\n\" + \"numberOfSteps: \" + str(numberOfSteps))\n",
    "\n",
    "prompts = [\n",
    "    \"a painting by Leonardo Davinci\",\n",
    "    \"a painting by Moebius\"\n",
    "]\n",
    "\n",
    "for prompt in prompts:\n",
    "    with autocast(\"cuda\"):\n",
    "        image = pipe(prompt, guidance_scale=guidanceScale, num_inference_steps=numberOfSteps)[\"sample\"][0]; \n",
    "    image.save(\"generatedImages/\" + folderAndFileName + \"/\" + prompt + \"_\" + str(int(datetime.datetime.now().timestamp()* 100000)) + \".png\")"
   ]
  },
  {
   "cell_type": "code",
   "execution_count": null,
   "id": "f73c819c",
   "metadata": {},
   "outputs": [],
   "source": []
  }
 ],
 "metadata": {
  "kernelspec": {
   "display_name": "Python 3 (ipykernel)",
   "language": "python",
   "name": "python3"
  },
  "language_info": {
   "codemirror_mode": {
    "name": "ipython",
    "version": 3
   },
   "file_extension": ".py",
   "mimetype": "text/x-python",
   "name": "python",
   "nbconvert_exporter": "python",
   "pygments_lexer": "ipython3",
   "version": "3.10.4"
  }
 },
 "nbformat": 4,
 "nbformat_minor": 5
}
