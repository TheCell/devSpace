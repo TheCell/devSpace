{
 "cells": [
  {
   "cell_type": "code",
   "execution_count": null,
   "id": "c60e5946",
   "metadata": {
    "scrolled": false
   },
   "outputs": [],
   "source": [
    "# https://huggingface.co/CompVis/stable-diffusion-v1-4\n",
    "# https://github.com/huggingface/diffusers"
   ]
  },
  {
   "cell_type": "code",
   "execution_count": 6,
   "id": "8788080d",
   "metadata": {
    "scrolled": true
   },
   "outputs": [
    {
     "data": {
      "text/plain": [
       "True"
      ]
     },
     "execution_count": 6,
     "metadata": {},
     "output_type": "execute_result"
    }
   ],
   "source": [
    "import datetime\n",
    "import os\n",
    "import torch\n",
    "from torch import autocast\n",
    "from diffusers import StableDiffusionPipeline\n",
    "\n",
    "torch.cuda.empty_cache()\n",
    "torch.cuda.is_available()\n",
    "os.makedirs(\"generatedImages/\", exist_ok=True)"
   ]
  },
  {
   "cell_type": "code",
   "execution_count": 2,
   "id": "78341070",
   "metadata": {},
   "outputs": [],
   "source": [
    "model_id = \"CompVis/stable-diffusion-v1-4\"\n",
    "device = \"cuda\""
   ]
  },
  {
   "cell_type": "code",
   "execution_count": 3,
   "id": "038cf5d7",
   "metadata": {},
   "outputs": [],
   "source": [
    "# use this\n",
    "# pipe = StableDiffusionPipeline.from_pretrained(model_id, use_auth_token=True)"
   ]
  },
  {
   "cell_type": "code",
   "execution_count": 4,
   "id": "c710d73b",
   "metadata": {},
   "outputs": [
    {
     "name": "stdout",
     "output_type": "stream",
     "text": [
      "starting and ignoring safety_checker\n"
     ]
    }
   ],
   "source": [
    "# use this if less than 10 GB GPU RAM is available\n",
    "pipe = StableDiffusionPipeline.from_pretrained(model_id, torch_dtype=torch.float16, revision=\"fp16\", use_auth_token=True)"
   ]
  },
  {
   "cell_type": "code",
   "execution_count": null,
   "id": "56c98ad9",
   "metadata": {},
   "outputs": [],
   "source": [
    "pipe = pipe.to(device)"
   ]
  },
  {
   "cell_type": "code",
   "execution_count": null,
   "id": "2e0e7a37",
   "metadata": {},
   "outputs": [],
   "source": [
    "prompts = [\n",
    "    \"art by Leonardo Davinci, character design, dark futuristic swat officer, wearing cyberpunk armour, intricate design, graffiti wall background, cyberpunk helmet with neon elements, dark, moody, rain\",\n",
    "    \"art by Michelangelo, character design, dark futuristic swat officer, wearing cyberpunk armour, intricate design, graffiti wall background, cyberpunk helmet with neon elements, dark, moody, rain\",\n",
    "    \"art by Nicholas Roerich, character design, dark futuristic swat officer, wearing cyberpunk armour, intricate design, graffiti wall background, cyberpunk helmet with neon elements, dark, moody, rain\",\n",
    "]\n",
    "\n",
    "for x in prompts:\n",
    "    with autocast(\"cuda\"):\n",
    "        image = pipe(x, guidance_scale=7.5)[\"sample\"][0]; \n",
    "    image.save(\"generatedImages/\" + str(int(datetime.datetime.now().timestamp()* 100000)) + \".png\")"
   ]
  },
  {
   "cell_type": "code",
   "execution_count": null,
   "id": "a8cac99b",
   "metadata": {},
   "outputs": [],
   "source": [
    "prompt = \"70s American engineering schematics\"\n",
    "os.makedirs(\"generatedImages/\" + prompt, exist_ok=True)\n",
    "\n",
    "for i in range(5):\n",
    "    print(i)\n",
    "    with autocast(\"cuda\"):\n",
    "        image = pipe(prompt, guidance_scale=7.5)[\"sample\"][0];\n",
    "    image.save(\"generatedImages/\" + prompt + str(int(datetime.datetime.now().timestamp()* 100000)) + \".png\")"
   ]
  },
  {
   "cell_type": "code",
   "execution_count": 9,
   "id": "2efa0eef",
   "metadata": {},
   "outputs": [],
   "source": []
  },
  {
   "cell_type": "code",
   "execution_count": null,
   "id": "4a9a12ee",
   "metadata": {},
   "outputs": [],
   "source": []
  }
 ],
 "metadata": {
  "kernelspec": {
   "display_name": "Python 3 (ipykernel)",
   "language": "python",
   "name": "python3"
  },
  "language_info": {
   "codemirror_mode": {
    "name": "ipython",
    "version": 3
   },
   "file_extension": ".py",
   "mimetype": "text/x-python",
   "name": "python",
   "nbconvert_exporter": "python",
   "pygments_lexer": "ipython3",
   "version": "3.10.6"
  }
 },
 "nbformat": 4,
 "nbformat_minor": 5
}
