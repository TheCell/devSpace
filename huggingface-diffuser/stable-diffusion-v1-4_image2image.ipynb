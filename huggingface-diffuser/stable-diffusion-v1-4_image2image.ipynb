{
 "cells": [
  {
   "cell_type": "code",
   "execution_count": null,
   "id": "c60e5946",
   "metadata": {
    "scrolled": false
   },
   "outputs": [],
   "source": [
    "# https://huggingface.co/CompVis/stable-diffusion-v1-4\n",
    "# https://github.com/huggingface/diffusers\n",
    "# first you need to log in on the console: \"huggingface-cli login\""
   ]
  },
  {
   "cell_type": "code",
   "execution_count": null,
   "id": "8788080d",
   "metadata": {
    "scrolled": true
   },
   "outputs": [],
   "source": [
    "import datetime\n",
    "import os\n",
    "import torch\n",
    "from torch import autocast\n",
    "from diffusers import StableDiffusionPipeline\n",
    "\n",
    "import requests\n",
    "from PIL import Image\n",
    "from io import BytesIO\n",
    "\n",
    "torch.cuda.empty_cache()\n",
    "torch.cuda.is_available()\n",
    "os.makedirs(\"generatedImages/\", exist_ok=True)\n",
    "os.makedirs(\"generatedImages/3. img2img\", exist_ok=True)"
   ]
  },
  {
   "cell_type": "code",
   "execution_count": null,
   "id": "78341070",
   "metadata": {},
   "outputs": [],
   "source": [
    "model_id = \"CompVis/stable-diffusion-v1-4\"\n",
    "device = \"cuda\""
   ]
  },
  {
   "cell_type": "code",
   "execution_count": null,
   "id": "038cf5d7",
   "metadata": {},
   "outputs": [],
   "source": [
    "# use this\n",
    "# pipe = StableDiffusionPipeline.from_pretrained(model_id, use_auth_token=True)"
   ]
  },
  {
   "cell_type": "code",
   "execution_count": null,
   "id": "c710d73b",
   "metadata": {},
   "outputs": [],
   "source": [
    "# use this if less than 10 GB GPU RAM is available\n",
    "pipe = StableDiffusionPipeline.from_pretrained(model_id, torch_dtype=torch.float16, revision=\"fp16\", use_auth_token=True)\n",
    "#pipe = StableDiffusionPipeline.from_pretrained(model_id, use_auth_token=True)"
   ]
  },
  {
   "cell_type": "code",
   "execution_count": null,
   "id": "56c98ad9",
   "metadata": {},
   "outputs": [],
   "source": [
    "pipe = pipe.to(device)\n",
    "urlOrImagename = \"\"\n",
    "\n",
    "# Could probably use an inline lambda for this\n",
    "def dummy(images, **kwargs):\n",
    "    return images, False\n",
    "pipe.safety_checker = dummy     # Disable safety check\n",
    "#pipe.enable_attention_slicing() #reduces GPU RAM"
   ]
  },
  {
   "cell_type": "code",
   "execution_count": null,
   "id": "863faaab",
   "metadata": {},
   "outputs": [],
   "source": [
    "# image from url\n",
    "urlOrImagename = \"https://raw.githubusercontent.com/CompVis/stable-diffusion/main/assets/stable-samples/img2img/sketch-mountains-input.jpg\"\n",
    "response = requests.get(urlOrImagename)\n",
    "init_image = Image.open(BytesIO(response.content)).convert(\"RGB\")\n",
    "init_image = init_image.resize((768, 512))"
   ]
  },
  {
   "cell_type": "code",
   "execution_count": null,
   "id": "94dcb662",
   "metadata": {},
   "outputs": [],
   "source": [
    "# or image by path\n",
    "imgFileName = \"sketch-mountains-input.jpg\"\n",
    "urlOrImagename = \"generatedImages/3. img2img/1. Src/\" + imgFileName\n",
    "init_image = Image.open(urlOrImagename).convert(\"RGB\")"
   ]
  },
  {
   "cell_type": "code",
   "execution_count": null,
   "id": "81bae4ec",
   "metadata": {},
   "outputs": [],
   "source": [
    "display(init_image)"
   ]
  },
  {
   "cell_type": "code",
   "execution_count": null,
   "id": "f73c819c",
   "metadata": {},
   "outputs": [],
   "source": [
    "prompt = \"A fantasy landscape, trending on artstation\"\n",
    "folderName = \"A fantasy landscape, trending on artstation\"\n",
    "\n",
    "foldertimestamp = str(int(datetime.datetime.now().timestamp()* 100000))\n",
    "folderName = foldertimestamp + \"_\" + folderName\n",
    "\n",
    "guidanceScale = 7.5\n",
    "numberOfSteps = 50\n",
    "os.makedirs(\"generatedImages/3. img2img/2. result\", exist_ok=True)\n",
    "os.makedirs(\"generatedImages/3. img2img/2. result/\" + folderName, exist_ok=True)\n",
    "\n",
    "with open(\"generatedImages/3. img2img/2. result/\" + folderName + \"/\" + \"prompt.txt\", 'w') as f:\n",
    "    f.write(\"Image2Image\")\n",
    "    f.write(\"\\n  urlOrImagename: \" + urlOrImagename)\n",
    "    f.write(\"\\n\" + prompt)\n",
    "    f.write(\"\\n\" + \"guidanceScale: \" + str(guidanceScale))\n",
    "    f.write(\"\\n\" + \"numberOfSteps: \" + str(numberOfSteps))\n",
    "\n",
    "for i in range(10):\n",
    "    print(i)\n",
    "    with autocast(\"cuda\"):\n",
    "        image = pipe(prompt, init_image=init_image, guidance_scale=guidanceScale, num_inference_steps=numberOfSteps)[\"sample\"][0];\n",
    "    image.save(\"generatedImages/3. img2img/2. result/\" + folderName + \"/\" + str(int(datetime.datetime.now().timestamp()* 100000)) + \".png\")"
   ]
  },
  {
   "cell_type": "code",
   "execution_count": null,
   "id": "a3aed768",
   "metadata": {},
   "outputs": [],
   "source": []
  }
 ],
 "metadata": {
  "kernelspec": {
   "display_name": "Python 3 (ipykernel)",
   "language": "python",
   "name": "python3"
  },
  "language_info": {
   "codemirror_mode": {
    "name": "ipython",
    "version": 3
   },
   "file_extension": ".py",
   "mimetype": "text/x-python",
   "name": "python",
   "nbconvert_exporter": "python",
   "pygments_lexer": "ipython3",
   "version": "3.10.4"
  }
 },
 "nbformat": 4,
 "nbformat_minor": 5
}
