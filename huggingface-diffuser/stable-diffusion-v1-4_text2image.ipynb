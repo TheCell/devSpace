{
 "cells": [
  {
   "cell_type": "code",
   "execution_count": null,
   "id": "c60e5946",
   "metadata": {
    "scrolled": false
   },
   "outputs": [],
   "source": [
    "# https://huggingface.co/CompVis/stable-diffusion-v1-4\n",
    "# https://github.com/huggingface/diffusers\n",
    "\n",
    "# first you need to log in on the console: \"huggingface-cli login\"\n",
    "# needs git-credential store"
   ]
  },
  {
   "cell_type": "code",
   "execution_count": null,
   "id": "8788080d",
   "metadata": {
    "scrolled": true
   },
   "outputs": [],
   "source": [
    "import datetime\n",
    "import os\n",
    "import torch\n",
    "from torch import autocast\n",
    "from diffusers import StableDiffusionPipeline\n",
    "\n",
    "torch.cuda.empty_cache()\n",
    "torch.cuda.is_available()\n",
    "os.makedirs(\"generatedImages/\", exist_ok=True)\n",
    "os.makedirs(\"generatedImages/2. txt2img\", exist_ok=True)"
   ]
  },
  {
   "cell_type": "code",
   "execution_count": null,
   "id": "78341070",
   "metadata": {},
   "outputs": [],
   "source": [
    "model_id = \"CompVis/stable-diffusion-v1-4\"\n",
    "device = \"cuda\""
   ]
  },
  {
   "cell_type": "code",
   "execution_count": null,
   "id": "038cf5d7",
   "metadata": {},
   "outputs": [],
   "source": [
    "# use this\n",
    "# pipe = StableDiffusionPipeline.from_pretrained(model_id, use_auth_token=True)"
   ]
  },
  {
   "cell_type": "code",
   "execution_count": null,
   "id": "c710d73b",
   "metadata": {},
   "outputs": [],
   "source": [
    "# use this if less than 10 GB GPU RAM is available\n",
    "pipe = StableDiffusionPipeline.from_pretrained(model_id, torch_dtype=torch.float16, revision=\"fp16\", use_auth_token=True)\n",
    "#pipe = StableDiffusionPipeline.from_pretrained(model_id, use_auth_token=True)"
   ]
  },
  {
   "cell_type": "code",
   "execution_count": null,
   "id": "56c98ad9",
   "metadata": {},
   "outputs": [],
   "source": [
    "pipe = pipe.to(device)\n",
    "\n",
    "# Could probably use an inline lambda for this\n",
    "def dummy(images, **kwargs):\n",
    "    return images, False\n",
    "pipe.safety_checker = dummy     # Disable safety check\n",
    "#pipe.enable_attention_slicing() #reduces GPU RAM"
   ]
  },
  {
   "cell_type": "code",
   "execution_count": null,
   "id": "863faaab",
   "metadata": {},
   "outputs": [],
   "source": [
    "prompt = \"A fantasy landscape, trending on artstation\"\n",
    "folderName = \"A fantasy landscape, trending on artstation\"\n",
    "\n",
    "foldertimestamp = str(int(datetime.datetime.now().timestamp()* 100000))\n",
    "folderName = foldertimestamp + \"_\" + folderName\n",
    "\n",
    "guidanceScale = 7.5\n",
    "numberOfSteps = 50\n",
    "os.makedirs(\"generatedImages/2. txt2img/\" + folderName , exist_ok=True)\n",
    "\n",
    "with open(\"generatedImages/2. txt2img/\" + folderName + \"/\" + \"prompt.txt\", 'w') as f:\n",
    "    f.write(prompt)\n",
    "    f.write(\"\\n\" + \"guidanceScale: \" + str(guidanceScale))\n",
    "    f.write(\"\\n\" + \"numberOfSteps: \" + str(numberOfSteps))\n",
    "\n",
    "for i in range(10):\n",
    "    print(i)\n",
    "    with autocast(\"cuda\"):\n",
    "        image = pipe(prompt, guidance_scale=guidanceScale, num_inference_steps=numberOfSteps)[\"sample\"][0];\n",
    "    image.save(\"generatedImages/2. txt2img/\" + folderName + \"/\" + str(int(datetime.datetime.now().timestamp()* 100000)) + \".png\")"
   ]
  },
  {
   "cell_type": "code",
   "execution_count": null,
   "id": "2e0e7a37",
   "metadata": {},
   "outputs": [],
   "source": [
    "prompt = \"A photo of a volcano erupting\"\n",
    "folderName = \"A photo of a volcano erupting\"\n",
    "\n",
    "foldertimestamp = str(int(datetime.datetime.now().timestamp()* 100000))\n",
    "folderName = foldertimestamp + \"_\" + folderName\n",
    "\n",
    "guidanceScale = 7.5\n",
    "numberOfSteps = 50\n",
    "os.makedirs(\"generatedImages/2. txt2img/\" + folderName , exist_ok=True)\n",
    "\n",
    "with open(\"generatedImages/2. txt2img/\" + folderName + \"/\" + \"prompt.txt\", 'w') as f:\n",
    "    f.write(\"\\n\" + \"guidanceScale: \" + str(guidanceScale))\n",
    "    f.write(\"\\n\" + \"numberOfSteps: \" + str(numberOfSteps))\n",
    "\n",
    "prompts = [\n",
    "    \"model drawing by Leonardo Davinci, #Illustration\",\n",
    "    \"model drawing by Shichirô Kobayashi, #Illustration\"\n",
    "]\n",
    "\n",
    "for prompt in prompts:\n",
    "    with autocast(\"cuda\"):\n",
    "        image = pipe(prompt, guidance_scale=guidanceScale, num_inference_steps=numberOfSteps)[\"sample\"][0]; \n",
    "    image.save(\"generatedImages/2. txt2img/\" + folderName + \"/\" + str(int(datetime.datetime.now().timestamp()* 100000)) + \".png\")"
   ]
  },
  {
   "cell_type": "code",
   "execution_count": null,
   "id": "4a8811f6",
   "metadata": {},
   "outputs": [],
   "source": []
  }
 ],
 "metadata": {
  "kernelspec": {
   "display_name": "Python 3 (ipykernel)",
   "language": "python",
   "name": "python3"
  },
  "language_info": {
   "codemirror_mode": {
    "name": "ipython",
    "version": 3
   },
   "file_extension": ".py",
   "mimetype": "text/x-python",
   "name": "python",
   "nbconvert_exporter": "python",
   "pygments_lexer": "ipython3",
   "version": "3.10.4"
  }
 },
 "nbformat": 4,
 "nbformat_minor": 5
}
